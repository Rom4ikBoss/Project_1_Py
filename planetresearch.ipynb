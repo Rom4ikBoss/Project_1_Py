{
 "cells": [
  {
   "cell_type": "code",
   "execution_count": 5,
   "id": "955ee62b-898b-47f4-bb32-065238e7ebca",
   "metadata": {
    "collapsed": true,
    "jupyter": {
     "outputs_hidden": true,
     "source_hidden": true
    }
   },
   "outputs": [
    {
     "name": "stdout",
     "output_type": "stream",
     "text": [
      "The pycodestyle_magic extension is already loaded. To reload it, use:\n",
      "  %reload_ext pycodestyle_magic\n"
     ]
    }
   ],
   "source": [
    "%load_ext pycodestyle_magic\n"
   ]
  },
  {
   "cell_type": "code",
   "execution_count": 6,
   "id": "6ff7c59c-30c9-49d7-b69a-fed560028191",
   "metadata": {
    "jupyter": {
     "source_hidden": true
    }
   },
   "outputs": [],
   "source": [
    "%pycodestyle_on"
   ]
  },
  {
   "cell_type": "markdown",
   "id": "57c0ae7d-abaa-498a-86ef-f908ddb128f0",
   "metadata": {},
   "source": [
    "# Исследовательский проект\n",
    "### Тема: исследование экзопланет\n",
    "Выполнил: Опарин Роман"
   ]
  },
  {
   "cell_type": "code",
   "execution_count": 2,
   "id": "f6d9fb38-0101-4682-ac33-d5273d4bbacf",
   "metadata": {},
   "outputs": [],
   "source": [
    "import pandas as pd\n",
    "import numpy as np"
   ]
  },
  {
   "cell_type": "code",
   "execution_count": 3,
   "id": "7494649b-861e-4403-b4d5-dd70f6be1728",
   "metadata": {},
   "outputs": [],
   "source": [
    "df = pd.read_csv('data.csv', comment=\"#\", sep=',', low_memory=False)"
   ]
  },
  {
   "cell_type": "code",
   "execution_count": 4,
   "id": "3126fa0c-d8b7-48bc-b7b1-bb111435aa45",
   "metadata": {},
   "outputs": [
    {
     "data": {
      "text/html": [
       "<div>\n",
       "<style scoped>\n",
       "    .dataframe tbody tr th:only-of-type {\n",
       "        vertical-align: middle;\n",
       "    }\n",
       "\n",
       "    .dataframe tbody tr th {\n",
       "        vertical-align: top;\n",
       "    }\n",
       "\n",
       "    .dataframe thead th {\n",
       "        text-align: right;\n",
       "    }\n",
       "</style>\n",
       "<table border=\"1\" class=\"dataframe\">\n",
       "  <thead>\n",
       "    <tr style=\"text-align: right;\">\n",
       "      <th></th>\n",
       "      <th>rowid</th>\n",
       "      <th>pl_name</th>\n",
       "      <th>hostname</th>\n",
       "      <th>pl_letter</th>\n",
       "      <th>hd_name</th>\n",
       "      <th>hip_name</th>\n",
       "      <th>tic_id</th>\n",
       "      <th>gaia_id</th>\n",
       "      <th>default_flag</th>\n",
       "      <th>sy_snum</th>\n",
       "      <th>...</th>\n",
       "      <th>sy_kepmagerr2</th>\n",
       "      <th>rowupdate</th>\n",
       "      <th>pl_pubdate</th>\n",
       "      <th>releasedate</th>\n",
       "      <th>pl_nnotes</th>\n",
       "      <th>st_nphot</th>\n",
       "      <th>st_nrvc</th>\n",
       "      <th>st_nspec</th>\n",
       "      <th>pl_nespec</th>\n",
       "      <th>pl_ntranspec</th>\n",
       "    </tr>\n",
       "  </thead>\n",
       "  <tbody>\n",
       "    <tr>\n",
       "      <th>0</th>\n",
       "      <td>1</td>\n",
       "      <td>11 Com b</td>\n",
       "      <td>11 Com</td>\n",
       "      <td>b</td>\n",
       "      <td>HD 107383</td>\n",
       "      <td>HIP 60202</td>\n",
       "      <td>TIC 72437047</td>\n",
       "      <td>Gaia DR2 3946945413106333696</td>\n",
       "      <td>0</td>\n",
       "      <td>2</td>\n",
       "      <td>...</td>\n",
       "      <td>NaN</td>\n",
       "      <td>2014-07-23</td>\n",
       "      <td>2011-08</td>\n",
       "      <td>2014-07-23</td>\n",
       "      <td>2.0</td>\n",
       "      <td>1.0</td>\n",
       "      <td>2.0</td>\n",
       "      <td>0.0</td>\n",
       "      <td>0.0</td>\n",
       "      <td>0.0</td>\n",
       "    </tr>\n",
       "    <tr>\n",
       "      <th>1</th>\n",
       "      <td>2</td>\n",
       "      <td>11 Com b</td>\n",
       "      <td>11 Com</td>\n",
       "      <td>b</td>\n",
       "      <td>HD 107383</td>\n",
       "      <td>HIP 60202</td>\n",
       "      <td>TIC 72437047</td>\n",
       "      <td>Gaia DR2 3946945413106333696</td>\n",
       "      <td>0</td>\n",
       "      <td>2</td>\n",
       "      <td>...</td>\n",
       "      <td>NaN</td>\n",
       "      <td>2014-05-14</td>\n",
       "      <td>2008-01</td>\n",
       "      <td>2014-05-14</td>\n",
       "      <td>2.0</td>\n",
       "      <td>1.0</td>\n",
       "      <td>2.0</td>\n",
       "      <td>0.0</td>\n",
       "      <td>0.0</td>\n",
       "      <td>0.0</td>\n",
       "    </tr>\n",
       "    <tr>\n",
       "      <th>2</th>\n",
       "      <td>3</td>\n",
       "      <td>11 Com b</td>\n",
       "      <td>11 Com</td>\n",
       "      <td>b</td>\n",
       "      <td>HD 107383</td>\n",
       "      <td>HIP 60202</td>\n",
       "      <td>TIC 72437047</td>\n",
       "      <td>Gaia DR2 3946945413106333696</td>\n",
       "      <td>1</td>\n",
       "      <td>2</td>\n",
       "      <td>...</td>\n",
       "      <td>NaN</td>\n",
       "      <td>2023-09-19</td>\n",
       "      <td>2023-08</td>\n",
       "      <td>2023-09-19</td>\n",
       "      <td>2.0</td>\n",
       "      <td>1.0</td>\n",
       "      <td>2.0</td>\n",
       "      <td>0.0</td>\n",
       "      <td>0.0</td>\n",
       "      <td>0.0</td>\n",
       "    </tr>\n",
       "    <tr>\n",
       "      <th>3</th>\n",
       "      <td>4</td>\n",
       "      <td>11 UMi b</td>\n",
       "      <td>11 UMi</td>\n",
       "      <td>b</td>\n",
       "      <td>HD 136726</td>\n",
       "      <td>HIP 74793</td>\n",
       "      <td>TIC 230061010</td>\n",
       "      <td>Gaia DR2 1696798367260229376</td>\n",
       "      <td>1</td>\n",
       "      <td>1</td>\n",
       "      <td>...</td>\n",
       "      <td>NaN</td>\n",
       "      <td>2018-09-04</td>\n",
       "      <td>2017-03</td>\n",
       "      <td>2018-09-06</td>\n",
       "      <td>0.0</td>\n",
       "      <td>1.0</td>\n",
       "      <td>1.0</td>\n",
       "      <td>0.0</td>\n",
       "      <td>0.0</td>\n",
       "      <td>0.0</td>\n",
       "    </tr>\n",
       "    <tr>\n",
       "      <th>4</th>\n",
       "      <td>5</td>\n",
       "      <td>11 UMi b</td>\n",
       "      <td>11 UMi</td>\n",
       "      <td>b</td>\n",
       "      <td>HD 136726</td>\n",
       "      <td>HIP 74793</td>\n",
       "      <td>TIC 230061010</td>\n",
       "      <td>Gaia DR2 1696798367260229376</td>\n",
       "      <td>0</td>\n",
       "      <td>1</td>\n",
       "      <td>...</td>\n",
       "      <td>NaN</td>\n",
       "      <td>2018-04-25</td>\n",
       "      <td>2011-08</td>\n",
       "      <td>2014-07-23</td>\n",
       "      <td>0.0</td>\n",
       "      <td>1.0</td>\n",
       "      <td>1.0</td>\n",
       "      <td>0.0</td>\n",
       "      <td>0.0</td>\n",
       "      <td>0.0</td>\n",
       "    </tr>\n",
       "  </tbody>\n",
       "</table>\n",
       "<p>5 rows × 287 columns</p>\n",
       "</div>"
      ],
      "text/plain": [
       "   rowid   pl_name hostname pl_letter    hd_name   hip_name         tic_id  \\\n",
       "0      1  11 Com b   11 Com         b  HD 107383  HIP 60202   TIC 72437047   \n",
       "1      2  11 Com b   11 Com         b  HD 107383  HIP 60202   TIC 72437047   \n",
       "2      3  11 Com b   11 Com         b  HD 107383  HIP 60202   TIC 72437047   \n",
       "3      4  11 UMi b   11 UMi         b  HD 136726  HIP 74793  TIC 230061010   \n",
       "4      5  11 UMi b   11 UMi         b  HD 136726  HIP 74793  TIC 230061010   \n",
       "\n",
       "                        gaia_id  default_flag  sy_snum  ...  sy_kepmagerr2  \\\n",
       "0  Gaia DR2 3946945413106333696             0        2  ...            NaN   \n",
       "1  Gaia DR2 3946945413106333696             0        2  ...            NaN   \n",
       "2  Gaia DR2 3946945413106333696             1        2  ...            NaN   \n",
       "3  Gaia DR2 1696798367260229376             1        1  ...            NaN   \n",
       "4  Gaia DR2 1696798367260229376             0        1  ...            NaN   \n",
       "\n",
       "    rowupdate  pl_pubdate releasedate  pl_nnotes st_nphot st_nrvc st_nspec  \\\n",
       "0  2014-07-23     2011-08  2014-07-23        2.0      1.0     2.0      0.0   \n",
       "1  2014-05-14     2008-01  2014-05-14        2.0      1.0     2.0      0.0   \n",
       "2  2023-09-19     2023-08  2023-09-19        2.0      1.0     2.0      0.0   \n",
       "3  2018-09-04     2017-03  2018-09-06        0.0      1.0     1.0      0.0   \n",
       "4  2018-04-25     2011-08  2014-07-23        0.0      1.0     1.0      0.0   \n",
       "\n",
       "  pl_nespec pl_ntranspec  \n",
       "0       0.0          0.0  \n",
       "1       0.0          0.0  \n",
       "2       0.0          0.0  \n",
       "3       0.0          0.0  \n",
       "4       0.0          0.0  \n",
       "\n",
       "[5 rows x 287 columns]"
      ]
     },
     "execution_count": 4,
     "metadata": {},
     "output_type": "execute_result"
    }
   ],
   "source": [
    "df.head()"
   ]
  },
  {
   "cell_type": "markdown",
   "id": "a0c4312e-4dbe-4227-97f5-7683fddf8286",
   "metadata": {},
   "source": [
    "За все время было открыто **27125** экзопланет"
   ]
  },
  {
   "cell_type": "markdown",
   "id": "436a3d54-852d-4224-bf72-cca07bd177ea",
   "metadata": {},
   "source": [
    "### Какой телескоп открыл больше всего экзопланет?"
   ]
  },
  {
   "cell_type": "code",
   "execution_count": 81,
   "id": "da2be71c-b7b9-49de-9336-a52740e9fc16",
   "metadata": {},
   "outputs": [
    {
     "data": {
      "text/plain": [
       "('0.95 m Kepler Telescope', 23122)"
      ]
     },
     "execution_count": 81,
     "metadata": {},
     "output_type": "execute_result"
    }
   ],
   "source": [
    "telescope_counts = df['disc_telescope'].value_counts()\n",
    "(telescope_counts.idxmax(), telescope_counts.max())"
   ]
  },
  {
   "cell_type": "markdown",
   "id": "df8eca4b-ec06-4629-a248-422a6fc48cca",
   "metadata": {},
   "source": [
    " Телескоп Kepler открыл больше всего экзопланет, а именно **23122**"
   ]
  },
  {
   "cell_type": "markdown",
   "id": "ede44467-45c7-4654-bbb7-5940a527ebb7",
   "metadata": {},
   "source": [
    "### Сколько открыто экзопланет?"
   ]
  },
  {
   "cell_type": "code",
   "execution_count": 85,
   "id": "d5102535-7cc7-4eb2-ad44-f4f8fd137692",
   "metadata": {},
   "outputs": [
    {
     "data": {
      "text/plain": [
       "(27125, 287)"
      ]
     },
     "execution_count": 85,
     "metadata": {},
     "output_type": "execute_result"
    }
   ],
   "source": [
    "df.shape"
   ]
  },
  {
   "cell_type": "markdown",
   "id": "da2dd4e3-6a20-4a84-9056-c8b613ba6443",
   "metadata": {},
   "source": [
    "### Сколько планет открыто в каждом году?"
   ]
  },
  {
   "cell_type": "code",
   "execution_count": 40,
   "id": "6bdba796-edd2-4858-b0e0-e380db11131e",
   "metadata": {},
   "outputs": [
    {
     "data": {
      "text/plain": [
       "disc_year\n",
       "1995       5\n",
       "1996      29\n",
       "1998      38\n",
       "1999      67\n",
       "2000      72\n",
       "2001      57\n",
       "2002     130\n",
       "2003      80\n",
       "2004     118\n",
       "2005     150\n",
       "2006      87\n",
       "2007     175\n",
       "2008     214\n",
       "2009     283\n",
       "2010     387\n",
       "2011     904\n",
       "2012     529\n",
       "2013     661\n",
       "2014    8578\n",
       "2015     802\n",
       "2016    8229\n",
       "2017     405\n",
       "2018     822\n",
       "2019     314\n",
       "2020     572\n",
       "2021    2403\n",
       "2022     452\n",
       "2023     557\n",
       "2024       5\n",
       "Name: disc_year, dtype: int64"
      ]
     },
     "execution_count": 40,
     "metadata": {},
     "output_type": "execute_result"
    }
   ],
   "source": [
    "df.groupby(['disc_year'])['disc_year'].count()"
   ]
  },
  {
   "cell_type": "markdown",
   "id": "72d99591-26c0-450b-b610-9a54280c833a",
   "metadata": {},
   "source": [
    "### Какой из типов детектирования экзопланет самый эффективный?"
   ]
  },
  {
   "cell_type": "code",
   "execution_count": 49,
   "id": "923bdee6-f9e1-40f1-9a36-449a0f13632b",
   "metadata": {},
   "outputs": [
    {
     "data": {
      "text/plain": [
       "('Transit', 24354)"
      ]
     },
     "execution_count": 49,
     "metadata": {},
     "output_type": "execute_result"
    }
   ],
   "source": [
    "detection_method_counts = df['discoverymethod'].value_counts()\n",
    "(detection_method_counts.idxmax(), detection_method_counts.max())"
   ]
  },
  {
   "cell_type": "markdown",
   "id": "864553dd-39cb-442d-a0ee-2c824df24dca",
   "metadata": {},
   "source": [
    "Самый эффективный метод детектирования за весь период набдюдений -- Тразитный, он открыл **24354** экзопланеты"
   ]
  },
  {
   "cell_type": "code",
   "execution_count": 88,
   "id": "5e5d7785-7ce3-4c0e-9209-15013212529e",
   "metadata": {},
   "outputs": [
    {
     "data": {
      "text/plain": [
       "disc_year\n",
       "1995              Radial Velocity\n",
       "1996              Radial Velocity\n",
       "1998              Radial Velocity\n",
       "1999              Radial Velocity\n",
       "2000              Radial Velocity\n",
       "2001              Radial Velocity\n",
       "2002              Radial Velocity\n",
       "2003              Radial Velocity\n",
       "2004              Radial Velocity\n",
       "2005              Radial Velocity\n",
       "2006                      Transit\n",
       "2007                      Transit\n",
       "2008                      Transit\n",
       "2009                      Transit\n",
       "2010                      Transit\n",
       "2011    Transit Timing Variations\n",
       "2012    Transit Timing Variations\n",
       "2013    Transit Timing Variations\n",
       "2014    Transit Timing Variations\n",
       "2015                      Transit\n",
       "2016    Transit Timing Variations\n",
       "2017    Transit Timing Variations\n",
       "2018    Transit Timing Variations\n",
       "2019                      Transit\n",
       "2020    Transit Timing Variations\n",
       "2021                      Transit\n",
       "2022    Transit Timing Variations\n",
       "2023    Transit Timing Variations\n",
       "2024              Radial Velocity\n",
       "Name: discoverymethod, dtype: object"
      ]
     },
     "execution_count": 88,
     "metadata": {},
     "output_type": "execute_result"
    }
   ],
   "source": [
    "df.groupby(['disc_year'])[\"discoverymethod\"].max()"
   ]
  },
  {
   "cell_type": "markdown",
   "id": "f98a943f-a6af-4c38-a8e5-0f15ae3cc3fc",
   "metadata": {},
   "source": [
    "Также стоит отметить, что до 2006 года новые экзопланеты открывали с помощью Radial Velocity"
   ]
  },
  {
   "cell_type": "markdown",
   "id": "97ad970d-3a74-4b34-bcac-36da08491932",
   "metadata": {},
   "source": [
    "### Средний орбитальный период"
   ]
  },
  {
   "cell_type": "code",
   "execution_count": 5,
   "id": "1e2ad30d-bc48-4e7f-a553-19354934e6fc",
   "metadata": {},
   "outputs": [
    {
     "data": {
      "text/plain": [
       "16588.99424172768"
      ]
     },
     "execution_count": 5,
     "metadata": {},
     "output_type": "execute_result"
    }
   ],
   "source": [
    "df['pl_orbper'].mean()"
   ]
  },
  {
   "cell_type": "markdown",
   "id": "e8173202-aaa9-4fc6-a1d5-3612c8155a77",
   "metadata": {},
   "source": [
    "Средний орбитальный период 16588 дней"
   ]
  },
  {
   "cell_type": "markdown",
   "id": "21534a84-627f-4ee1-955b-0f1395f3f2e6",
   "metadata": {},
   "source": [
    "### Максимальный орбитальный период"
   ]
  },
  {
   "cell_type": "code",
   "execution_count": 83,
   "id": "b0e60b58-63f4-4f3b-82d8-3230bc97cae2",
   "metadata": {},
   "outputs": [
    {
     "data": {
      "text/plain": [
       "402000000.0"
      ]
     },
     "execution_count": 83,
     "metadata": {},
     "output_type": "execute_result"
    }
   ],
   "source": [
    "df['pl_orbper'].max()"
   ]
  },
  {
   "cell_type": "markdown",
   "id": "b2c1b656-3c8d-42fd-bde1-ad31ec2f4a12",
   "metadata": {},
   "source": [
    "### Средний орбитальный период по каждому году"
   ]
  },
  {
   "cell_type": "code",
   "execution_count": 92,
   "id": "4ee461fc-83ff-4a2b-b56c-d72d11bfa6d0",
   "metadata": {},
   "outputs": [
    {
     "data": {
      "text/plain": [
       "disc_year\n",
       "1995         4.230530\n",
       "1996       382.316613\n",
       "1998        85.052576\n",
       "1999       229.094159\n",
       "2000       502.091638\n",
       "2001       823.392299\n",
       "2002      1340.061249\n",
       "2003      1105.584991\n",
       "2004       460.571120\n",
       "2005       709.770923\n",
       "2006       878.909476\n",
       "2007       303.571863\n",
       "2008      4768.630965\n",
       "2009       974.662513\n",
       "2010       303.897541\n",
       "2011       141.122563\n",
       "2012       324.032265\n",
       "2013        86.721418\n",
       "2014        36.908176\n",
       "2015       161.001497\n",
       "2016        43.858278\n",
       "2017       103.986257\n",
       "2018       190.838596\n",
       "2019       962.999267\n",
       "2020        61.346059\n",
       "2021    172775.425604\n",
       "2022      3208.435399\n",
       "2023       547.467518\n",
       "2024       213.741460\n",
       "Name: pl_orbper, dtype: float64"
      ]
     },
     "execution_count": 92,
     "metadata": {},
     "output_type": "execute_result"
    }
   ],
   "source": [
    "df.groupby(['disc_year'])['pl_orbper'].mean()"
   ]
  },
  {
   "cell_type": "markdown",
   "id": "3d54995f-734d-4e3a-8d7b-3aaeb795c5f4",
   "metadata": {},
   "source": [
    "###  Растояние до экопланет"
   ]
  },
  {
   "cell_type": "code",
   "execution_count": 7,
   "id": "085d2305-949f-4315-b6dc-475b2f1d1f9b",
   "metadata": {},
   "outputs": [
    {
     "data": {
      "text/plain": [
       "8240.0"
      ]
     },
     "execution_count": 7,
     "metadata": {},
     "output_type": "execute_result"
    }
   ],
   "source": [
    "df[\"sy_dist\"].max()"
   ]
  },
  {
   "cell_type": "markdown",
   "id": "c21b31d8-db5d-486a-aa45-8081ff62be36",
   "metadata": {},
   "source": [
    "Самая далекая из открытых планет, находится на расстояянии  - **8240** парсек"
   ]
  },
  {
   "cell_type": "code",
   "execution_count": 8,
   "id": "abf31168",
   "metadata": {},
   "outputs": [
    {
     "data": {
      "text/plain": [
       "3.29"
      ]
     },
     "execution_count": 8,
     "metadata": {},
     "output_type": "execute_result"
    }
   ],
   "source": [
    "df[\"sy_dist\"].min()"
   ]
  },
  {
   "cell_type": "markdown",
   "id": "dbda04ab",
   "metadata": {},
   "source": [
    "Самая ближайшая из открытых планет, находится на расстоянии - 3,29 парсек "
   ]
  },
  {
   "cell_type": "markdown",
   "id": "6c3b27de-5dc5-4bc7-9dc0-258c2eaba16d",
   "metadata": {},
   "source": [
    "#### Растояние до планет в разрезе лет"
   ]
  },
  {
   "cell_type": "code",
   "execution_count": 76,
   "id": "c8628104-8b13-4c43-ab0e-03cb7390dd65",
   "metadata": {},
   "outputs": [
    {
     "data": {
      "text/plain": [
       "disc_year\n",
       "1995      15.4614\n",
       "1996      21.1397\n",
       "1998      45.9548\n",
       "1999      62.7674\n",
       "2000      84.4069\n",
       "2001      81.3795\n",
       "2002     122.5360\n",
       "2003     100.5760\n",
       "2004     151.1690\n",
       "2005     497.8230\n",
       "2006     190.3740\n",
       "2007     925.2140\n",
       "2008     787.9090\n",
       "2009    1539.7100\n",
       "2010    2305.0100\n",
       "2011    1819.1700\n",
       "2012    1366.0700\n",
       "2013    2213.1900\n",
       "2014    2257.3200\n",
       "2015    1878.3100\n",
       "2016    2921.9900\n",
       "2017    1188.5400\n",
       "2018    7010.0000\n",
       "2019    7481.0000\n",
       "2020    7300.0000\n",
       "2021    7470.0000\n",
       "2022    8240.0000\n",
       "2023    7710.0000\n",
       "2024      26.7909\n",
       "Name: sy_dist, dtype: float64"
      ]
     },
     "execution_count": 76,
     "metadata": {},
     "output_type": "execute_result"
    }
   ],
   "source": [
    "df.groupby(['disc_year'])[\"sy_dist\"].max()"
   ]
  },
  {
   "cell_type": "code",
   "execution_count": 75,
   "id": "f4685c39-3407-4d71-a7ba-3d9ac2f51feb",
   "metadata": {},
   "outputs": [
    {
     "data": {
      "text/plain": [
       "<Axes: xlabel='disc_year'>"
      ]
     },
     "execution_count": 75,
     "metadata": {},
     "output_type": "execute_result"
    },
    {
     "data": {
      "image/png": "[encoded data removed]",
      "text/plain": [
       "<Figure size 640x480 with 1 Axes>"
      ]
     },
     "metadata": {},
     "output_type": "display_data"
    }
   ],
   "source": [
    "df.groupby(['disc_year'])[\"sy_dist\"].max().plot()"
   ]
  },
  {
   "cell_type": "markdown",
   "id": "bd77a054-491d-4c31-9763-f2d6a6c8d8a8",
   "metadata": {},
   "source": [
    "Нетрудно заметить, что с каждым годом открывают все более далекие планеты"
   ]
  },
  {
   "cell_type": "markdown",
   "id": "4adb7c5f-d61f-45f9-97b1-e73f1202c457",
   "metadata": {},
   "source": [
    "Резкое падение в 2024 году можно объяснить, тем что год только начался"
   ]
  },
  {
   "cell_type": "code",
   "execution_count": null,
   "id": "60332d3c-d142-49ad-a29e-c96b27d05d57",
   "metadata": {},
   "outputs": [],
   "source": []
  }
 ],
 "metadata": {
  "kernelspec": {
   "display_name": "Python 3 (ipykernel)",
   "language": "python",
   "name": "python3"
  },
  "language_info": {
   "codemirror_mode": {
    "name": "ipython",
    "version": 3
   },
   "file_extension": ".py",
   "mimetype": "text/x-python",
   "name": "python",
   "nbconvert_exporter": "python",
   "pygments_lexer": "ipython3",
   "version": "3.11.5"
  }
 },
 "nbformat": 4,
 "nbformat_minor": 5
}
